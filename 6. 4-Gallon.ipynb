{
 "cells": [
  {
   "cell_type": "code",
   "execution_count": 1,
   "id": "bf73c3fb",
   "metadata": {},
   "outputs": [],
   "source": [
    "from collections import deque"
   ]
  },
  {
   "cell_type": "code",
   "execution_count": 2,
   "id": "db141cbf",
   "metadata": {},
   "outputs": [],
   "source": [
    "MAX_5 = 5\n",
    "MAX_3 = 3\n",
    "GOAL = 4\n",
    "MAX_STEPS = 15"
   ]
  },
  {
   "cell_type": "code",
   "execution_count": 3,
   "id": "40175403",
   "metadata": {},
   "outputs": [],
   "source": [
    "class State:\n",
    "    def __init__(self, five, three, path):\n",
    "        self.five = five\n",
    "        self.three = three\n",
    "        self.path = path\n",
    "\n",
    "    def __repr__(self):\n",
    "        return f\"({self.five} gal in 5-gal, {self.three} gal in 3-gal)\""
   ]
  },
  {
   "cell_type": "code",
   "execution_count": 4,
   "id": "3cdf74f8",
   "metadata": {},
   "outputs": [],
   "source": [
    "def get_next_states(state):\n",
    "    f, t = state.five, state.three\n",
    "    next_states = []\n",
    "\n",
    "    next_states.append(State(0, t, state.path + [\"Empty 5-gal\"]))\n",
    "    next_states.append(State(f, 0, state.path + [\"Empty 3-gal\"]))\n",
    "    next_states.append(State(MAX_5, t, state.path + [\"Fill 5-gal\"]))\n",
    "    next_states.append(State(f, MAX_3, state.path + [\"Fill 3-gal\"]))\n",
    "\n",
    "    pour = min(t, MAX_5 - f)\n",
    "    next_states.append(State(f + pour, t - pour, state.path + [f\"Pour {pour} gal from 3-gal to 5-gal\"]))\n",
    "\n",
    "    pour = min(f, MAX_3 - t)\n",
    "    next_states.append(State(f - pour, t + pour, state.path + [f\"Pour {pour} gal from 5-gal to 3-gal\"]))\n",
    "\n",
    "    return next_states"
   ]
  },
  {
   "cell_type": "code",
   "execution_count": null,
   "id": "ba1dce4e",
   "metadata": {},
   "outputs": [],
   "source": [
    "def solve():\n",
    "    visited = set()\n",
    "    q = deque()\n",
    "    q.append(State(0, 0, []))\n",
    "\n",
    "    while q:\n",
    "        state = q.popleft()\n",
    "        key = (state.five, state.three)\n",
    "\n",
    "        if key in visited or len(state.path) > MAX_STEPS:\n",
    "            continue\n",
    "        visited.add(key)\n",
    "\n",
    "        if state.five == GOAL or state.three == GOAL:\n",
    "            print(\"Solution found in\", len(state.path), \"steps:\")\n",
    "            for i, step in enumerate(state.path, 1):\n",
    "                print(f\"{i:2d}. {step}\")\n",
    "            print(f\"Final State: {state}\")\n",
    "            return\n",
    "\n",
    "        for next_state in get_next_states(state):\n",
    "            q.append(next_state)\n",
    "\n",
    "    print(\"No solution found within 15 steps.\")"
   ]
  },
  {
   "cell_type": "code",
   "execution_count": 6,
   "id": "6c36f8ec",
   "metadata": {},
   "outputs": [
    {
     "name": "stdout",
     "output_type": "stream",
     "text": [
      "Solution found in 6 steps:\n",
      " 1. Fill 5-gal\n",
      " 2. Pour 3 gal from 5-gal to 3-gal\n",
      " 3. Empty 3-gal\n",
      " 4. Pour 2 gal from 5-gal to 3-gal\n",
      " 5. Fill 5-gal\n",
      " 6. Pour 1 gal from 5-gal to 3-gal\n",
      "Final State: (4 gal in 5-gal, 3 gal in 3-gal)\n"
     ]
    }
   ],
   "source": [
    "solve()"
   ]
  },
  {
   "cell_type": "code",
   "execution_count": null,
   "id": "8838668d",
   "metadata": {},
   "outputs": [],
   "source": []
  }
 ],
 "metadata": {
  "kernelspec": {
   "display_name": "base",
   "language": "python",
   "name": "python3"
  },
  "language_info": {
   "codemirror_mode": {
    "name": "ipython",
    "version": 3
   },
   "file_extension": ".py",
   "mimetype": "text/x-python",
   "name": "python",
   "nbconvert_exporter": "python",
   "pygments_lexer": "ipython3",
   "version": "3.12.3"
  }
 },
 "nbformat": 4,
 "nbformat_minor": 5
}
