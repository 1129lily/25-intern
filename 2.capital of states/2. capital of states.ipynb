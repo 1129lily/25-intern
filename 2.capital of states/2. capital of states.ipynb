{
 "cells": [
  {
   "cell_type": "code",
   "execution_count": 11,
   "id": "c77cffd1",
   "metadata": {},
   "outputs": [],
   "source": [
    "import pandas as pd\n",
    "import json\n",
    "\n",
    "import requests\n",
    "import xml.etree.ElementTree as ET\n",
    "from urllib.parse import quote\n",
    "\n",
    "from geopy.geocoders import Nominatim\n",
    "import folium\n",
    "\n",
    "import time"
   ]
  },
  {
   "cell_type": "markdown",
   "id": "cc0146e0",
   "metadata": {},
   "source": [
    "### (1) Step 1: \n",
    "\n",
    "Create JSON file with all state capitals and their addresses.\n",
    "\n",
    "Ask claude: Search for the capital & zipcode for 50 states in US\n"
   ]
  },
  {
   "cell_type": "markdown",
   "id": "e08ac73b",
   "metadata": {},
   "source": [
    "### Step 2: \n",
    "Verify that its a valid JSON file  that you created\n",
    "\n",
    "https://jsonlint.com/\n",
    "\n",
    "https://codebeautify.org/jsonvalidator"
   ]
  },
  {
   "cell_type": "code",
   "execution_count": 12,
   "id": "1087dda9",
   "metadata": {},
   "outputs": [],
   "source": [
    "with open('us_state_capitals.json', 'r', encoding='utf-8') as f:\n",
    "    data = json.load(f)\n",
    "\n",
    "df = pd.DataFrame(data)"
   ]
  },
  {
   "cell_type": "markdown",
   "id": "0ef6d260",
   "metadata": {},
   "source": [
    "#### Step 2.1: \n",
    "Verify addresses.using USPS API.\n",
    "\n",
    "https://tools.usps.com/zip-code-lookup.htm\n",
    "\n",
    "https://www.census.gov/data.html"
   ]
  },
  {
   "cell_type": "code",
   "execution_count": 16,
   "id": "a8f2df9d",
   "metadata": {},
   "outputs": [
    {
     "name": "stdout",
     "output_type": "stream",
     "text": [
      "Error processing address: Illinois\n",
      "Error processing address: Minnesota\n",
      "Address not found: New York\n",
      "Address not found: Ohio\n",
      "Error processing address: Tennessee\n",
      "Error processing address: Utah\n"
     ]
    }
   ],
   "source": [
    "geolocator = Nominatim(user_agent=\"address_verifier\")\n",
    "ls_verify = []\n",
    "ls_zip = []\n",
    "\n",
    "for i, row in df.iterrows():\n",
    "    street = row['address']['street']\n",
    "    city = row['address']['city']\n",
    "    state = row['address']['state_code']\n",
    "    zip5 = row['address']['zip']\n",
    "    query = f\"{street}, {city}, {state}\"\n",
    "\n",
    "    try:\n",
    "        location = geolocator.geocode(query, country_codes=\"us\")\n",
    "        if location:\n",
    "            # print(f\"Address found: {row['state']}\")\n",
    "            ls_verify.append(\"Address found\")\n",
    "            \n",
    "        else:\n",
    "            print(f\"Address not found: {row['state']}\")\n",
    "            ls_verify.append(\"Address not found\")\n",
    "    except:\n",
    "        print(f\"Error processing address: {row['state']}\")\n",
    "        ls_verify.append(\"Error processing address\")\n",
    "\n",
    "    time.sleep(10)  # To avoid hitting the API too quickly"
   ]
  },
  {
   "cell_type": "code",
   "execution_count": 17,
   "id": "66495b88",
   "metadata": {},
   "outputs": [],
   "source": [
    "df['valid address?'] = ls_verify"
   ]
  },
  {
   "cell_type": "markdown",
   "id": "9d3fc9b9",
   "metadata": {},
   "source": [
    "### Step 3: \n",
    "Write a python program that reads that JSON file and creates another JSON file with the same things plus Longitude and latitude.\n"
   ]
  },
  {
   "cell_type": "code",
   "execution_count": 18,
   "id": "01828fb4",
   "metadata": {},
   "outputs": [],
   "source": [
    "latitudes = []\n",
    "longitudes = []\n",
    "\n",
    "geolocator = Nominatim(user_agent=\"geoapi\")\n",
    "\n",
    "for _, row in df.iterrows():\n",
    "    try:\n",
    "        location = geolocator.geocode(f\"{row['capital']}, {row['state']}, USA\")\n",
    "\n",
    "        try:\n",
    "            latitude = location.latitude\n",
    "            longitude = location.longitude\n",
    "            # print(f\"{capital}: ({location.latitude}, {location.longitude})\")\n",
    "        except:\n",
    "            print(f\"Error retrieving coordinates for {row['capital']}\")\n",
    "            latitude = eval(input(\"Enter latitude of {}: \".format(row['capital'])))\n",
    "            longitude = eval(input(\"Enter longitude of {}: \".format(row['capital'])))\n",
    "    except:\n",
    "        print(f\"{row['capital']}: Not found\")\n",
    "        latitude = eval(input(\"Enter latitude of {}: \".format(row['capital'])))\n",
    "        longitude = eval(input(\"Enter longitude of {}: \".format(row['capital'])))\n",
    "\n",
    "    latitudes.append(latitude)\n",
    "    longitudes.append(longitude)\n",
    "    time.sleep(10)"
   ]
  },
  {
   "cell_type": "code",
   "execution_count": 19,
   "id": "8a0b7d6e",
   "metadata": {},
   "outputs": [],
   "source": [
    "df['latitude'] = latitudes\n",
    "df['longitude'] = list(longitudes)"
   ]
  },
  {
   "cell_type": "code",
   "execution_count": 20,
   "id": "5ffafc97",
   "metadata": {},
   "outputs": [],
   "source": [
    "df.to_json('us_state_capitals_with_coordinates.json', orient='records',indent=4,index=False)"
   ]
  },
  {
   "cell_type": "markdown",
   "id": "949e2558",
   "metadata": {},
   "source": [
    "### Step 4: \n",
    "Verify that the Longitude and latitude are variable.\n",
    "\n",
    "website: https://www.google.com/maps?q=38.8977,-77.0365 (change the numbers)"
   ]
  },
  {
   "cell_type": "code",
   "execution_count": 21,
   "id": "909390ab",
   "metadata": {},
   "outputs": [],
   "source": [
    "m = folium.Map(location=[39.8283, -98.5795], zoom_start=4)"
   ]
  },
  {
   "cell_type": "code",
   "execution_count": 22,
   "id": "37cfb8a9",
   "metadata": {},
   "outputs": [],
   "source": [
    "for _, row in df.iterrows():\n",
    "\n",
    "    folium.Marker(\n",
    "        location=[row['latitude'], row['longitude']],\n",
    "        icon=folium.Icon(color='blue', icon='info-sign')\n",
    "    ).add_to(m)\n",
    "\n",
    "    folium.map.Marker(\n",
    "        location=[row['latitude'], row['longitude']],\n",
    "        icon=folium.DivIcon(\n",
    "            icon_size=(150,36),\n",
    "            icon_anchor=(0,0),\n",
    "            html=f'''<div style=\"font-size: 10pt; color: black;\">{row['state']}<br>{row['capital']}</div>'''\n",
    "        )\n",
    "    ).add_to(m)"
   ]
  },
  {
   "cell_type": "code",
   "execution_count": 23,
   "id": "11a49496",
   "metadata": {},
   "outputs": [],
   "source": [
    "m.save(\"us_capitals_check.html\")"
   ]
  },
  {
   "cell_type": "markdown",
   "id": "4d5d042b",
   "metadata": {},
   "source": [
    "### Step 5: \n",
    "Verify the JSON file again.\n"
   ]
  },
  {
   "cell_type": "code",
   "execution_count": 24,
   "id": "477e0648",
   "metadata": {},
   "outputs": [],
   "source": [
    "with open('us_state_capitals_with_coordinates.json', 'r', encoding='utf-8') as f:\n",
    "    data = json.load(f)\n",
    "\n",
    "df = pd.DataFrame(data)"
   ]
  },
  {
   "cell_type": "code",
   "execution_count": null,
   "id": "c66c94bb",
   "metadata": {},
   "outputs": [],
   "source": []
  }
 ],
 "metadata": {
  "kernelspec": {
   "display_name": "base",
   "language": "python",
   "name": "python3"
  },
  "language_info": {
   "codemirror_mode": {
    "name": "ipython",
    "version": 3
   },
   "file_extension": ".py",
   "mimetype": "text/x-python",
   "name": "python",
   "nbconvert_exporter": "python",
   "pygments_lexer": "ipython3",
   "version": "3.12.3"
  }
 },
 "nbformat": 4,
 "nbformat_minor": 5
}
