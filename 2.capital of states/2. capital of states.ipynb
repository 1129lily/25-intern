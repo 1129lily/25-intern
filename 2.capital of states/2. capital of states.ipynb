{
 "cells": [
  {
   "cell_type": "code",
   "execution_count": 1,
   "id": "c77cffd1",
   "metadata": {},
   "outputs": [],
   "source": [
    "import pandas as pd\n",
    "import json\n",
    "\n",
    "from geopy.geocoders import Nominatim\n",
    "import folium\n",
    "\n",
    "import time"
   ]
  },
  {
   "cell_type": "markdown",
   "id": "cc0146e0",
   "metadata": {},
   "source": [
    "### (1) create json\n",
    "\n",
    "Ask claude: Search for the capital & zipcode for 50 states in US\n"
   ]
  },
  {
   "cell_type": "markdown",
   "id": "e08ac73b",
   "metadata": {},
   "source": [
    "### (2)\tvalid json file and capital address(USPS)\n",
    "1.JSON\n",
    "\n",
    "https://jsonlint.com/\n",
    "\n",
    "https://codebeautify.org/jsonvalidator"
   ]
  },
  {
   "cell_type": "code",
   "execution_count": 2,
   "id": "1087dda9",
   "metadata": {},
   "outputs": [],
   "source": [
    "with open('us_state_capitals.json', 'r', encoding='utf-8') as f:\n",
    "    data = json.load(f)\n",
    "\n",
    "df = pd.DataFrame(data)"
   ]
  },
  {
   "cell_type": "markdown",
   "id": "0ef6d260",
   "metadata": {},
   "source": [
    "2.address\n",
    "\n",
    "https://tools.usps.com/zip-code-lookup.htm\n",
    "\n",
    "https://www.census.gov/data.html"
   ]
  },
  {
   "cell_type": "code",
   "execution_count": 4,
   "id": "a8f2df9d",
   "metadata": {},
   "outputs": [
    {
     "name": "stdout",
     "output_type": "stream",
     "text": [
      "Address found: 600 Dexter Ave, Montgomery, AL\n",
      "Address found: 120 4th St, Juneau, AK\n",
      "Address found: 1700 W Washington St, Phoenix, AZ\n",
      "Address found: 500 Woodlane St, Little Rock, AR\n",
      "Address found: 1315 10th St, Sacramento, CA\n",
      "Address found: 200 E Colfax Ave, Denver, CO\n",
      "Address found: 210 Capitol Ave, Hartford, CT\n",
      "Address found: 411 Legislative Ave, Dover, DE\n",
      "Address found: 400 S Monroe St, Tallahassee, FL\n",
      "Address found: 206 Washington St SW, Atlanta, GA\n",
      "Address found: 415 S Beretania St, Honolulu, HI\n",
      "Address found: 700 W Jefferson St, Boise, ID\n",
      "Error processing address: 401 S 2nd St, Springfield, IL\n",
      "Address found: 200 W Washington St, Indianapolis, IN\n",
      "Address found: 1007 E Grand Ave, Des Moines, IA\n",
      "Address found: 300 SW 10th Ave, Topeka, KS\n",
      "Address found: 700 Capitol Ave, Frankfort, KY\n",
      "Address found: 900 N 3rd St, Baton Rouge, LA\n",
      "Address found: 210 State St, Augusta, ME\n",
      "Address found: 100 State Circle, Annapolis, MD\n",
      "Address found: 24 Beacon St, Boston, MA\n",
      "Address found: 100 N Capitol Ave, Lansing, MI\n",
      "Error processing address: 75 Rev Dr Martin Luther King Jr Blvd, Saint Paul, MN\n",
      "Address found: 400 High St, Jackson, MS\n",
      "Address found: 201 W Capitol Ave, Jefferson City, MO\n",
      "Address found: 1301 E 6th Ave, Helena, MT\n",
      "Address found: 1445 K St, Lincoln, NE\n",
      "Address found: 101 N Carson St, Carson City, NV\n",
      "Address found: 107 N Main St, Concord, NH\n",
      "Address found: 125 W State St, Trenton, NJ\n",
      "Address found: 490 Old Santa Fe Trail, Santa Fe, NM\n",
      "Address not found: State St & Washington Ave, Albany, NY\n",
      "Address found: 16 W Jones St, Raleigh, NC\n",
      "Address found: 600 E Boulevard Ave, Bismarck, ND\n",
      "Address not found: 1 Capitol Square, Columbus, OH\n",
      "Address found: 2300 N Lincoln Blvd, Oklahoma City, OK\n",
      "Address found: 900 Court St NE, Salem, OR\n",
      "Address found: 501 N 3rd St, Harrisburg, PA\n",
      "Address found: 82 Smith St, Providence, RI\n",
      "Address found: 1100 Gervais St, Columbia, SC\n",
      "Address found: 500 E Capitol Ave, Pierre, SD\n",
      "Error processing address: 600 Dr. M.L.K. Jr. Blvd, Nashville, TN\n",
      "Address found: 1100 Congress Ave, Austin, TX\n",
      "Error processing address: 350 N State St, Salt Lake City, UT\n",
      "Address found: 115 State St, Montpelier, VT\n",
      "Address found: 1000 Bank St, Richmond, VA\n",
      "Address found: 416 Sid Snyder Ave SW, Olympia, WA\n",
      "Address found: 1900 Kanawha Blvd E, Charleston, WV\n",
      "Address found: 2 E Main St, Madison, WI\n",
      "Address found: 200 W 24th St, Cheyenne, WY\n"
     ]
    }
   ],
   "source": [
    "geolocator = Nominatim(user_agent=\"address_verifier\")\n",
    "ls_verify = []\n",
    "\n",
    "for _, row in df.iterrows():\n",
    "    try:\n",
    "        location = geolocator.geocode(row['address'], country_codes=\"us\")\n",
    "        if location:\n",
    "            print(f\"Address found: {row['address']}\")\n",
    "            ls_verify.append(None)\n",
    "        else:\n",
    "            print(f\"Address not found: {row['address']}\")\n",
    "            ls_verify.append(\"Address not found\")\n",
    "    except:\n",
    "        print(f\"Error processing address: {row['address']}\")\n",
    "        ls_verify.append(\"Error processing address\")\n",
    "\n",
    "    time.sleep(10)  # To avoid hitting the API too quickly\n",
    "df['verification'] = ls_verify"
   ]
  },
  {
   "cell_type": "markdown",
   "id": "9d3fc9b9",
   "metadata": {},
   "source": [
    "### (3) provide longtitude and latitude"
   ]
  },
  {
   "cell_type": "code",
   "execution_count": 5,
   "id": "01828fb4",
   "metadata": {},
   "outputs": [],
   "source": [
    "latitudes = []\n",
    "longitudes = []\n",
    "\n",
    "geolocator = Nominatim(user_agent=\"geoapi\")\n",
    "\n",
    "for _, row in df.iterrows():\n",
    "    try:\n",
    "        location = geolocator.geocode(f\"{row['capital']}, {row['state']}, USA\")\n",
    "\n",
    "        try:\n",
    "            latitude = location.latitude\n",
    "            longitude = location.longitude\n",
    "            # print(f\"{capital}: ({location.latitude}, {location.longitude})\")\n",
    "        except:\n",
    "            print(f\"Error retrieving coordinates for {row['capital']}\")\n",
    "            latitude = eval(input(\"Enter latitude of {}: \".format(row['capital'])))\n",
    "            longitude = eval(input(\"Enter longitude of {}: \".format(row['capital'])))\n",
    "    except:\n",
    "        print(f\"{row['capital']}: Not found\")\n",
    "        latitude = eval(input(\"Enter latitude of {}: \".format(row['capital'])))\n",
    "        longitude = eval(input(\"Enter longitude of {}: \".format(row['capital'])))\n",
    "\n",
    "    latitudes.append(latitude)\n",
    "    longitudes.append(longitude)\n",
    "    time.sleep(10)"
   ]
  },
  {
   "cell_type": "code",
   "execution_count": 6,
   "id": "8a0b7d6e",
   "metadata": {},
   "outputs": [],
   "source": [
    "df['latitude'] = latitudes\n",
    "df['longitude'] = list(longitudes)"
   ]
  },
  {
   "cell_type": "code",
   "execution_count": 7,
   "id": "5ffafc97",
   "metadata": {},
   "outputs": [],
   "source": [
    "df.to_json('us_state_capitals_with_coordinates.json', orient='records',indent=4,index=False)"
   ]
  },
  {
   "cell_type": "markdown",
   "id": "1614de45",
   "metadata": {},
   "source": [
    "### (4)\tvalid json file\n",
    "https://jsonlint.com/\n",
    "\n",
    "https://codebeautify.org/jsonvalidator"
   ]
  },
  {
   "cell_type": "code",
   "execution_count": 8,
   "id": "cfe880c2",
   "metadata": {},
   "outputs": [],
   "source": [
    "with open('us_state_capitals_with_coordinates.json', 'r', encoding='utf-8') as f:\n",
    "    data = json.load(f)\n",
    "\n",
    "df = pd.DataFrame(data)"
   ]
  },
  {
   "cell_type": "markdown",
   "id": "949e2558",
   "metadata": {},
   "source": [
    "### (5)\tverify longtitude and latitude\n",
    "website: https://www.google.com/maps?q=38.8977,-77.0365 (change the numbers)"
   ]
  },
  {
   "cell_type": "code",
   "execution_count": 9,
   "id": "909390ab",
   "metadata": {},
   "outputs": [],
   "source": [
    "m = folium.Map(location=[39.8283, -98.5795], zoom_start=4)"
   ]
  },
  {
   "cell_type": "code",
   "execution_count": 10,
   "id": "37cfb8a9",
   "metadata": {},
   "outputs": [],
   "source": [
    "for _, row in df.iterrows():\n",
    "\n",
    "    folium.Marker(\n",
    "        location=[row['latitude'], row['longitude']],\n",
    "        icon=folium.Icon(color='blue', icon='info-sign')\n",
    "    ).add_to(m)\n",
    "\n",
    "    folium.map.Marker(\n",
    "        location=[row['latitude'], row['longitude']],\n",
    "        icon=folium.DivIcon(\n",
    "            icon_size=(150,36),\n",
    "            icon_anchor=(0,0),\n",
    "            html=f'''<div style=\"font-size: 10pt; color: black;\">{row['state']}<br>{row['capital']}</div>'''\n",
    "        )\n",
    "    ).add_to(m)"
   ]
  },
  {
   "cell_type": "code",
   "execution_count": 11,
   "id": "11a49496",
   "metadata": {},
   "outputs": [],
   "source": [
    "m.save(\"us_capitals_check.html\")"
   ]
  },
  {
   "cell_type": "code",
   "execution_count": null,
   "id": "37642831",
   "metadata": {},
   "outputs": [],
   "source": []
  }
 ],
 "metadata": {
  "kernelspec": {
   "display_name": "base",
   "language": "python",
   "name": "python3"
  },
  "language_info": {
   "codemirror_mode": {
    "name": "ipython",
    "version": 3
   },
   "file_extension": ".py",
   "mimetype": "text/x-python",
   "name": "python",
   "nbconvert_exporter": "python",
   "pygments_lexer": "ipython3",
   "version": "3.12.3"
  }
 },
 "nbformat": 4,
 "nbformat_minor": 5
}
