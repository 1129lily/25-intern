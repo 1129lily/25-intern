{
 "cells": [
  {
   "cell_type": "code",
   "execution_count": 1,
   "id": "5329d031",
   "metadata": {},
   "outputs": [],
   "source": [
    "import requests\n",
    "from bs4 import BeautifulSoup\n",
    "import os\n",
    "\n",
    "import zipfile"
   ]
  },
  {
   "cell_type": "markdown",
   "id": "96ba701c",
   "metadata": {},
   "source": [
    "### NPI files\n",
    "https://download.cms.gov/nppes/NPI_Files.html"
   ]
  },
  {
   "cell_type": "code",
   "execution_count": 2,
   "id": "a8a31321",
   "metadata": {},
   "outputs": [],
   "source": [
    "download_dir = \"nppes_zip_files_v2\"\n",
    "os.makedirs(download_dir, exist_ok=True)"
   ]
  },
  {
   "cell_type": "markdown",
   "id": "9ce465fe",
   "metadata": {},
   "source": [
    "#### retrieve the NPI download page"
   ]
  },
  {
   "cell_type": "code",
   "execution_count": 3,
   "id": "bc506f39",
   "metadata": {},
   "outputs": [],
   "source": [
    "url = \"https://download.cms.gov/nppes/NPI_Files.html\"\n",
    "\n",
    "response = requests.get(url)\n",
    "soup = BeautifulSoup(response.content, \"html.parser\")\n",
    "\n",
    "links = soup.find_all(\"a\")"
   ]
  },
  {
   "cell_type": "markdown",
   "id": "92c0b58a",
   "metadata": {},
   "source": [
    "#### select zip files of version 2"
   ]
  },
  {
   "cell_type": "code",
   "execution_count": 4,
   "id": "4db975f8",
   "metadata": {},
   "outputs": [],
   "source": [
    "zip_links = []\n",
    "for link in links:\n",
    "    href = link.get(\"href\")\n",
    "    if href and href.endswith(\".zip\") & (\"V2\" in href or \"v2\" in href):\n",
    "        if href.startswith(\"/\"):  \n",
    "            href = \"https://download.cms.gov\" + href\n",
    "        elif href.startswith(\".\"):\n",
    "            href = \"https://download.cms.gov/nppes/\" + href[2:]\n",
    "        zip_links.append(href)"
   ]
  },
  {
   "cell_type": "code",
   "execution_count": 10,
   "id": "e6199b10",
   "metadata": {},
   "outputs": [
    {
     "data": {
      "text/plain": [
       "['https://download.cms.gov/nppes/NPPES_Data_Dissemination_May_2025_V2.zip',\n",
       " 'https://download.cms.gov/nppes/NPPES_Deactivated_NPI_Report_051225_V2.zip',\n",
       " 'https://download.cms.gov/nppes/NPPES_Data_Dissemination_050525_051125_Weekly_V2.zip',\n",
       " 'https://download.cms.gov/nppes/NPPES_Data_Dissemination_051225_051825_Weekly_V2.zip',\n",
       " 'https://download.cms.gov/nppes/NPPES_Data_Dissemination_051925_052525_Weekly_V2.zip']"
      ]
     },
     "execution_count": 10,
     "metadata": {},
     "output_type": "execute_result"
    }
   ],
   "source": [
    "zip_links"
   ]
  },
  {
   "cell_type": "markdown",
   "id": "5262b5f1",
   "metadata": {},
   "source": [
    "#### download each zip file"
   ]
  },
  {
   "cell_type": "code",
   "execution_count": 5,
   "id": "755293d6",
   "metadata": {},
   "outputs": [
    {
     "name": "stdout",
     "output_type": "stream",
     "text": [
      "Downloading 1/5: NPPES_Data_Dissemination_May_2025_V2.zip\n",
      "Downloading 2/5: NPPES_Deactivated_NPI_Report_051225_V2.zip\n",
      "Downloading 3/5: NPPES_Data_Dissemination_050525_051125_Weekly_V2.zip\n",
      "Downloading 4/5: NPPES_Data_Dissemination_051225_051825_Weekly_V2.zip\n",
      "Downloading 5/5: NPPES_Data_Dissemination_051925_052525_Weekly_V2.zip\n",
      "All files downloaded.\n"
     ]
    }
   ],
   "source": [
    "for i, zip_url in enumerate(zip_links, 1):\n",
    "    filename = zip_url.split(\"/\")[-1]\n",
    "    filepath = os.path.join(download_dir, filename)\n",
    "    print(f\"Downloading {i}/{len(zip_links)}: {filename}\")\n",
    "    with requests.get(zip_url, stream=True) as r:\n",
    "        r.raise_for_status()\n",
    "        with open(filepath, \"wb\") as f:\n",
    "            for chunk in r.iter_content(chunk_size=8192):\n",
    "                f.write(chunk)\n",
    "\n",
    "print(\"All files downloaded.\")"
   ]
  },
  {
   "cell_type": "markdown",
   "id": "d4064a11",
   "metadata": {},
   "source": [
    "#### unzip the files"
   ]
  },
  {
   "cell_type": "code",
   "execution_count": 6,
   "id": "68505d03",
   "metadata": {},
   "outputs": [
    {
     "name": "stdout",
     "output_type": "stream",
     "text": [
      "Extracting NPPES_Data_Dissemination_050525_051125_Weekly_V2.zip...\n",
      "Extracted and deleted NPPES_Data_Dissemination_050525_051125_Weekly_V2.zip\n",
      "Extracting NPPES_Data_Dissemination_051225_051825_Weekly_V2.zip...\n",
      "Extracted and deleted NPPES_Data_Dissemination_051225_051825_Weekly_V2.zip\n",
      "Extracting NPPES_Data_Dissemination_051925_052525_Weekly_V2.zip...\n",
      "Extracted and deleted NPPES_Data_Dissemination_051925_052525_Weekly_V2.zip\n",
      "Extracting NPPES_Data_Dissemination_May_2025_V2.zip...\n",
      "Extracted and deleted NPPES_Data_Dissemination_May_2025_V2.zip\n",
      "Extracting NPPES_Deactivated_NPI_Report_051225_V2.zip...\n",
      "Extracted and deleted NPPES_Deactivated_NPI_Report_051225_V2.zip\n",
      "All zip files extracted.\n"
     ]
    }
   ],
   "source": [
    "for filename in os.listdir(download_dir):\n",
    "    if filename.endswith(\".zip\"):\n",
    "        zip_path = os.path.join(download_dir, filename)\n",
    "        extract_dir = os.path.join(download_dir, filename.replace(\".zip\", \"\"))\n",
    "        os.makedirs(extract_dir, exist_ok=True)\n",
    "\n",
    "        print(f\"Extracting {filename}...\")\n",
    "        try:\n",
    "            with zipfile.ZipFile(zip_path, 'r') as zip_ref:\n",
    "                zip_ref.extractall(extract_dir)\n",
    "            os.remove(zip_path)\n",
    "            print(f\"Extracted and deleted {filename}\")\n",
    "        except zipfile.BadZipFile:\n",
    "            print(f\"Failed to extract {filename} (Bad zip file)\")\n",
    "        except Exception as e:\n",
    "            print(f\"Error extracting {filename}: {e}\")\n",
    "\n",
    "print(\"All zip files extracted.\")"
   ]
  },
  {
   "cell_type": "markdown",
   "id": "7f6369bb",
   "metadata": {},
   "source": [
    "### taxonomy\n",
    "https://www.nucc.org/index.php/code-sets-mainmenu-41/provider-taxonomy-mainmenu-40/csv-mainmenu-57\n"
   ]
  },
  {
   "cell_type": "code",
   "execution_count": null,
   "id": "aeecfdb0",
   "metadata": {},
   "outputs": [],
   "source": [
    "url_taxonomy = \"https://www.nucc.org/index.php/code-sets-mainmenu-41/provider-taxonomy-mainmenu-40/csv-mainmenu-57\"\n",
    "\n",
    "response_taxonomy = requests.get(url_taxonomy)\n",
    "response_taxonomy.raise_for_status()\n",
    "\n",
    "soup_taxonomy = BeautifulSoup(response_taxonomy.text, \"html.parser\")\n",
    "\n",
    "links = soup_taxonomy.find_all(\"a\")\n",
    "\n",
    "csv_links = [link.get(\"href\") for link in links if link.get(\"href\") and link.get(\"href\").endswith(\".csv\")]"
   ]
  },
  {
   "cell_type": "code",
   "execution_count": 17,
   "id": "d8271b2e",
   "metadata": {},
   "outputs": [
    {
     "name": "stdout",
     "output_type": "stream",
     "text": [
      "Downloading nucc_taxonomy_250.csv from https://www.nucc.org/images/stories/CSV/nucc_taxonomy_250.csv\n",
      "Downloaded and saved as nucc_taxonomy_250.csv\n"
     ]
    }
   ],
   "source": [
    "if csv_links:\n",
    "    csv_url = csv_links[0] # latest version\n",
    "\n",
    "    if not csv_url.startswith(\"http\"):\n",
    "        csv_url = \"https://www.nucc.org\" + csv_url\n",
    "\n",
    "    filename = os.path.basename(csv_url)\n",
    "\n",
    "    print(f\"Downloading {filename} from {csv_url}\")\n",
    "    csv_response = requests.get(csv_url)\n",
    "    csv_response.raise_for_status()\n",
    "\n",
    "    with open(filename, \"wb\") as f:\n",
    "        f.write(csv_response.content)\n",
    "    print(f\"Downloaded and saved as {filename}\")\n",
    "else:\n",
    "    print(\"No CSV links found on the page.\")"
   ]
  },
  {
   "cell_type": "code",
   "execution_count": null,
   "id": "0756f0fd",
   "metadata": {},
   "outputs": [],
   "source": []
  }
 ],
 "metadata": {
  "kernelspec": {
   "display_name": "base",
   "language": "python",
   "name": "python3"
  },
  "language_info": {
   "codemirror_mode": {
    "name": "ipython",
    "version": 3
   },
   "file_extension": ".py",
   "mimetype": "text/x-python",
   "name": "python",
   "nbconvert_exporter": "python",
   "pygments_lexer": "ipython3",
   "version": "3.12.3"
  }
 },
 "nbformat": 4,
 "nbformat_minor": 5
}
