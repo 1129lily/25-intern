{
 "cells": [
  {
   "cell_type": "code",
   "execution_count": null,
   "id": "786beaf0",
   "metadata": {},
   "outputs": [
    {
     "name": "stderr",
     "output_type": "stream",
     "text": [
      "[nltk_data] Downloading package words to\n",
      "[nltk_data]     C:\\Users\\木木小呆猪\\AppData\\Roaming\\nltk_data...\n",
      "[nltk_data]   Unzipping corpora\\words.zip.\n"
     ]
    },
    {
     "data": {
      "text/plain": [
       "True"
      ]
     },
     "execution_count": 1,
     "metadata": {},
     "output_type": "execute_result"
    }
   ],
   "source": [
    "import itertools\n",
    "from nltk.corpus import words\n",
    "import nltk\n",
    "\n",
    "nltk.download('words')  # download dictionary"
   ]
  },
  {
   "cell_type": "code",
   "execution_count": 2,
   "id": "9ab6e63a",
   "metadata": {},
   "outputs": [],
   "source": [
    "def generate_tabind_words_nltk():\n",
    "    dictionary = set(words.words())\n",
    "    letters = \"tabind\"\n",
    "    found_words = set()\n",
    "\n",
    "    for length in range(2, len(letters) + 1):\n",
    "        for perm in itertools.permutations(letters, length):\n",
    "            word = ''.join(perm).lower()\n",
    "            if word in dictionary:\n",
    "                found_words.add(word)\n",
    "\n",
    "    return sorted(found_words)"
   ]
  },
  {
   "cell_type": "code",
   "execution_count": null,
   "id": "57350b1f",
   "metadata": {},
   "outputs": [
    {
     "name": "stdout",
     "output_type": "stream",
     "text": [
      "✅ Words from 'tabind':\n",
      "ad\n",
      "adit\n",
      "ai\n",
      "aid\n",
      "aint\n",
      "ait\n",
      "an\n",
      "and\n",
      "ani\n",
      "ant\n",
      "anti\n",
      "at\n",
      "ba\n",
      "bad\n",
      "bain\n",
      "bait\n",
      "ban\n",
      "band\n",
      "bandi\n",
      "bandit\n",
      "bani\n",
      "bant\n",
      "bat\n",
      "bid\n",
      "bin\n",
      "bind\n",
      "bint\n",
      "bit\n",
      "da\n",
      "dab\n",
      "dain\n",
      "dan\n",
      "di\n",
      "dian\n",
      "dib\n",
      "din\n",
      "dint\n",
      "dit\n",
      "dita\n",
      "iba\n",
      "id\n",
      "idant\n",
      "in\n",
      "it\n",
      "na\n",
      "nab\n",
      "naid\n",
      "nat\n",
      "ni\n",
      "nib\n",
      "nid\n",
      "nit\n",
      "ta\n",
      "tab\n",
      "tabid\n",
      "tad\n",
      "tai\n",
      "tain\n",
      "tan\n",
      "ti\n",
      "tib\n",
      "tid\n",
      "tin\n",
      "tind\n",
      "\n",
      "Total words: 64\n"
     ]
    }
   ],
   "source": [
    "results = generate_tabind_words_nltk()\n",
    "print(\"Words from 'tabind':\")\n",
    "for word in results:\n",
    "    print(word)\n",
    "print(f\"\\nTotal words: {len(results)}\")"
   ]
  },
  {
   "cell_type": "code",
   "execution_count": null,
   "id": "85ab93a4",
   "metadata": {},
   "outputs": [],
   "source": []
  }
 ],
 "metadata": {
  "kernelspec": {
   "display_name": "base",
   "language": "python",
   "name": "python3"
  },
  "language_info": {
   "codemirror_mode": {
    "name": "ipython",
    "version": 3
   },
   "file_extension": ".py",
   "mimetype": "text/x-python",
   "name": "python",
   "nbconvert_exporter": "python",
   "pygments_lexer": "ipython3",
   "version": "3.12.3"
  }
 },
 "nbformat": 4,
 "nbformat_minor": 5
}
